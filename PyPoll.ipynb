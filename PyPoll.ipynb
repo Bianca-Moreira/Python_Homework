{
 "cells": [
  {
   "cell_type": "code",
   "execution_count": 89,
   "metadata": {},
   "outputs": [],
   "source": [
    "#Import Dependencies\n",
    "import os\n",
    "import csv\n"
   ]
  },
  {
   "cell_type": "code",
   "execution_count": 90,
   "metadata": {},
   "outputs": [],
   "source": [
    "#Open CSV File\n",
    "csvpath = os.path.join(\"election_data.csv\")\n"
   ]
  },
  {
   "cell_type": "code",
   "execution_count": 91,
   "metadata": {},
   "outputs": [],
   "source": [
    "# Create Variables\n",
    "total_votes = 0\n",
    "candidate = \"\"\n",
    "candidate_list = []\n",
    "vote_list = []\n",
    "percent_list = []\n",
    "winner = \"\""
   ]
  },
  {
   "cell_type": "code",
   "execution_count": 92,
   "metadata": {},
   "outputs": [],
   "source": [
    "# Open CSV file\n",
    "with open(csvpath, newline=\"\") as csvfile:\n",
    "    csvreader = csv.reader(csvfile, delimiter=\",\")\n",
    "    csv_header = next(csvreader)\n",
    "\n",
    "# calculate Total Votes\n",
    "    for row in csvreader:\n",
    "        total_votes +=1\n",
    "\n",
    "# Create a list with candidates      \n",
    "        if row[2] not in candidate_list:\n",
    "            candidate_list.append(row[2])\n",
    "            vote_list.append(1)\n",
    "        else:\n",
    "            vote_list[candidate_list.index(row[2])] += 1"
   ]
  },
  {
   "cell_type": "code",
   "execution_count": 93,
   "metadata": {},
   "outputs": [],
   "source": [
    "# Calculate percent            \n",
    "percent_list = [(100/total_votes) * x for x in vote_list]"
   ]
  },
  {
   "cell_type": "code",
   "execution_count": 94,
   "metadata": {},
   "outputs": [],
   "source": [
    "# Winner\n",
    "winner = candidate_list[vote_list.index(max(vote_list))]"
   ]
  },
  {
   "cell_type": "code",
   "execution_count": 95,
   "metadata": {},
   "outputs": [
    {
     "name": "stdout",
     "output_type": "stream",
     "text": "Election Results\n-------------------------\nTotal Votes: 3521001\n-------------------------\nKhan: 63.000% (2218231)\nCorrey: 20.000% (704200)\nLi: 14.000% (492940)\nO'Tooley: 3.000% (105630)\n-------------------------\nWinner: Khan\n-------------------------\n"
    }
   ],
   "source": [
    "# Print the analysis to terminal       \n",
    "print(\"Election Results\")\n",
    "print(\"-------------------------\")\n",
    "print(\"Total Votes: \" + str(total_votes))\n",
    "print(\"-------------------------\")\n",
    "\n",
    "for x in candidate_list:\n",
    "    print(x + \": \" + str(format(percent_list[candidate_list.index(x)], '.3f')) \n",
    "        + \"% (\" + str(vote_list[candidate_list.index(x)]) + \")\")\n",
    "    \n",
    "print(\"-------------------------\")\n",
    "print(\"Winner: \" + winner)\n",
    "print(\"-------------------------\")"
   ]
  },
  {
   "cell_type": "code",
   "execution_count": 96,
   "metadata": {},
   "outputs": [],
   "source": [
    "# Write to text file\n",
    "f = open(\"PyPoll_Analysis.txt\", \"w\")\n",
    "\n",
    "f.write(\"Election Results\\n\")\n",
    "f.write(\"-------------------------\\n\")\n",
    "f.write(\"Total Votes: \" + str(total_votes) + \"\\n\")\n",
    "f.write(\"-------------------------\\n\")\n",
    "\n",
    "for x in candidate_list:\n",
    "    f.write(x + \": \" + str(format(percent_list[candidate_list.index(x)], '.3f')) \n",
    "        + \"% (\" + str(vote_list[candidate_list.index(x)]) + \")\\n\")\n",
    "    \n",
    "f.write(\"-------------------------\\n\")\n",
    "f.write(\"Winner: \" + winner + \"\\n\")\n",
    "f.write(\"-------------------------\\n\")\n",
    "\n",
    "f.close()"
   ]
  },
  {
   "cell_type": "code",
   "execution_count": null,
   "metadata": {},
   "outputs": [],
   "source": []
  }
 ],
 "metadata": {
  "kernelspec": {
   "display_name": "Python 3.7.4 64-bit ('base': conda)",
   "language": "python",
   "name": "python37464bitbasecondad490780e2e684e22b09f96599ab0295e"
  },
  "language_info": {
   "codemirror_mode": {
    "name": "ipython",
    "version": 3
   },
   "file_extension": ".py",
   "mimetype": "text/x-python",
   "name": "python",
   "nbconvert_exporter": "python",
   "pygments_lexer": "ipython3",
   "version": "3.7.4-final"
  }
 },
 "nbformat": 4,
 "nbformat_minor": 2
}