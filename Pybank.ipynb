{
 "cells": [
  {
   "cell_type": "code",
   "execution_count": 190,
   "metadata": {},
   "outputs": [],
   "source": [
    "#Import Dependencies\n",
    "import os\n",
    "import csv\n"
   ]
  },
  {
   "cell_type": "code",
   "execution_count": 191,
   "metadata": {},
   "outputs": [],
   "source": [
    "#CSV Path\n",
    "csvpath = os.path.join('budget_data.csv')"
   ]
  },
  {
   "cell_type": "code",
   "execution_count": 192,
   "metadata": {},
   "outputs": [],
   "source": [
    "#Create variables\n",
    "total_months = 0\n",
    "total_profit_loss = 0\n",
    "prev_profit_loss = 0\n",
    "month_change = 0\n",
    "total_month_change = 0\n",
    "average_month_change = 0\n",
    "greatest_increase = 0\n",
    "greatest_increase_month = \"\"\n",
    "greatest_decrease = 0\n",
    "greatest_increase_month = \"\""
   ]
  },
  {
   "cell_type": "code",
   "execution_count": 193,
   "metadata": {},
   "outputs": [],
   "source": [
    "#Open CSV File\n",
    "with open(csvpath, newline=\"\") as csvfile:\n",
    "    csvreader = csv.reader(csvfile, delimiter=\",\")\n",
    "    \n",
    "    # Skip the first row\n",
    "    csv_header = next(csvreader)\n",
    "    \n",
    "    # Calculate Total\n",
    "    for row in csvreader:\n",
    "        total_months += 1\n",
    "        total_profit_loss += int(row[1])\n",
    "        \n",
    "        # calculate the change in profit/loss\n",
    "        if total_months > 1:\n",
    "            month_change = int(row[1]) - prev_profit_loss\n",
    "            \n",
    "        # Calculate Total Month Change\n",
    "        total_month_change += month_change\n",
    "        \n",
    "        # Calculate Previous month\n",
    "        prev_profit_loss = int(row[1])\n",
    "        \n",
    "        # calculate greatest increase in profits\n",
    "        if month_change > greatest_increase:\n",
    "            greatest_increase = month_change\n",
    "            greatest_increase_month = row[0]\n",
    "        \n",
    "        # calculate greatest decrease in losses\n",
    "        if month_change < greatest_decrease:\n",
    "            greatest_decrease = month_change\n",
    "            greatest_decrease_month = row[0]"
   ]
  },
  {
   "cell_type": "code",
   "execution_count": 194,
   "metadata": {},
   "outputs": [],
   "source": [
    "# calculate average        \n",
    "average_month_change = total_month_change / (total_months - 1)"
   ]
  },
  {
   "cell_type": "code",
   "execution_count": 195,
   "metadata": {},
   "outputs": [
    {
     "name": "stdout",
     "output_type": "stream",
     "text": "Financial Analysis\n----------------------------\nTotal Months: 86\nTotal: $38382578\nAverage Change: $-2315.12\nGreatest Increase in Profits: 12-Feb ($1926159)\nGreatest Decrease in Profits: 13-Sep ($-2196167)\n"
    }
   ],
   "source": [
    "# Print the analysis to terminal\n",
    "print(\"Financial Analysis\")\n",
    "print(\"----------------------------\")        \n",
    "print(\"Total Months: \" + str(total_months))\n",
    "print(\"Total: $\" + str(total_profit_loss))\n",
    "print(\"Average Change: $\" + str(format(average_month_change, '.2f')))\n",
    "print(\"Greatest Increase in Profits: \" + greatest_increase_month \n",
    "      + \" ($\" + str(greatest_increase) + \")\")\n",
    "print(\"Greatest Decrease in Profits: \" + greatest_decrease_month \n",
    "      + \" ($\" + str(greatest_decrease) + \")\")"
   ]
  },
  {
   "cell_type": "code",
   "execution_count": 196,
   "metadata": {},
   "outputs": [],
   "source": [
    "# Write to text file\n",
    "f = open(\"Pybank_Analysis.txt\", \"w\")\n",
    "f.write(\"Financial Analysis\\n\")\n",
    "f.write(\"----------------------------\\n\")        \n",
    "f.write(\"Total Months: \" + str(total_months) + \"\\n\")\n",
    "f.write(\"Total: $\" + str(total_profit_loss) + \"\\n\")\n",
    "f.write(\"Average Change: $\" + str(format(average_month_change, '.2f')) + \"\\n\")\n",
    "f.write(\"Greatest Increase in Profits: \" + greatest_increase_month \n",
    "      + \" ($\" + str(greatest_increase) + \")\\n\")\n",
    "f.write(\"Greatest Decrease in Profits: \" + greatest_decrease_month \n",
    "      + \" ($\" + str(greatest_decrease) + \")\\n\")\n",
    "f.close()"
   ]
  },
  {
   "cell_type": "code",
   "execution_count": null,
   "metadata": {},
   "outputs": [],
   "source": []
  }
 ],
 "metadata": {
  "kernelspec": {
   "display_name": "Python 3.7.4 64-bit ('base': conda)",
   "language": "python",
   "name": "python37464bitbasecondad490780e2e684e22b09f96599ab0295e"
  },
  "language_info": {
   "codemirror_mode": {
    "name": "ipython",
    "version": 3
   },
   "file_extension": ".py",
   "mimetype": "text/x-python",
   "name": "python",
   "nbconvert_exporter": "python",
   "pygments_lexer": "ipython3",
   "version": "3.7.4-final"
  }
 },
 "nbformat": 4,
 "nbformat_minor": 2
}